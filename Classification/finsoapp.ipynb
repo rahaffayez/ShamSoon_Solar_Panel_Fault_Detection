{
  "nbformat": 4,
  "nbformat_minor": 0,
  "metadata": {
    "colab": {
      "provenance": []
    },
    "kernelspec": {
      "name": "python3",
      "display_name": "Python 3"
    },
    "language_info": {
      "name": "python"
    }
  },
  "cells": [
    {
      "cell_type": "code",
      "execution_count": 1,
      "metadata": {
        "colab": {
          "base_uri": "https://localhost:8080/"
        },
        "id": "bnqg6HHpaWCr",
        "outputId": "eede18fb-47db-4cff-d564-7866e6b05364"
      },
      "outputs": [
        {
          "output_type": "stream",
          "name": "stdout",
          "text": [
            "Requirement already satisfied: flask in /usr/local/lib/python3.11/dist-packages (3.1.0)\n",
            "Requirement already satisfied: numpy in /usr/local/lib/python3.11/dist-packages (1.26.4)\n",
            "Requirement already satisfied: pillow in /usr/local/lib/python3.11/dist-packages (11.1.0)\n",
            "Collecting tflite-runtime\n",
            "  Downloading tflite_runtime-2.14.0-cp311-cp311-manylinux2014_x86_64.whl.metadata (1.4 kB)\n",
            "Requirement already satisfied: Werkzeug>=3.1 in /usr/local/lib/python3.11/dist-packages (from flask) (3.1.3)\n",
            "Requirement already satisfied: Jinja2>=3.1.2 in /usr/local/lib/python3.11/dist-packages (from flask) (3.1.5)\n",
            "Requirement already satisfied: itsdangerous>=2.2 in /usr/local/lib/python3.11/dist-packages (from flask) (2.2.0)\n",
            "Requirement already satisfied: click>=8.1.3 in /usr/local/lib/python3.11/dist-packages (from flask) (8.1.8)\n",
            "Requirement already satisfied: blinker>=1.9 in /usr/local/lib/python3.11/dist-packages (from flask) (1.9.0)\n",
            "Requirement already satisfied: MarkupSafe>=2.0 in /usr/local/lib/python3.11/dist-packages (from Jinja2>=3.1.2->flask) (3.0.2)\n",
            "Downloading tflite_runtime-2.14.0-cp311-cp311-manylinux2014_x86_64.whl (2.4 MB)\n",
            "\u001b[2K   \u001b[90m━━━━━━━━━━━━━━━━━━━━━━━━━━━━━━━━━━━━━━━━\u001b[0m \u001b[32m2.4/2.4 MB\u001b[0m \u001b[31m12.2 MB/s\u001b[0m eta \u001b[36m0:00:00\u001b[0m\n",
            "\u001b[?25hInstalling collected packages: tflite-runtime\n",
            "Successfully installed tflite-runtime-2.14.0\n"
          ]
        }
      ],
      "source": [
        "!pip install flask numpy pillow tflite-runtime\n"
      ]
    },
    {
      "cell_type": "code",
      "source": [
        "!pip install pyngrok\n"
      ],
      "metadata": {
        "colab": {
          "base_uri": "https://localhost:8080/"
        },
        "id": "U3xFJMVJaYhU",
        "outputId": "0ca8c581-0b34-437e-a55f-1c5f0f59e7a0"
      },
      "execution_count": 2,
      "outputs": [
        {
          "output_type": "stream",
          "name": "stdout",
          "text": [
            "Collecting pyngrok\n",
            "  Downloading pyngrok-7.2.3-py3-none-any.whl.metadata (8.7 kB)\n",
            "Requirement already satisfied: PyYAML>=5.1 in /usr/local/lib/python3.11/dist-packages (from pyngrok) (6.0.2)\n",
            "Downloading pyngrok-7.2.3-py3-none-any.whl (23 kB)\n",
            "Installing collected packages: pyngrok\n",
            "Successfully installed pyngrok-7.2.3\n"
          ]
        }
      ]
    },
    {
      "cell_type": "code",
      "source": [
        "!pip install flask-ngrok\n"
      ],
      "metadata": {
        "colab": {
          "base_uri": "https://localhost:8080/"
        },
        "id": "4GShlZTacSnq",
        "outputId": "f2e76ac4-d63a-40a3-dab2-3ef1ba62a53a"
      },
      "execution_count": 5,
      "outputs": [
        {
          "output_type": "stream",
          "name": "stdout",
          "text": [
            "Collecting flask-ngrok\n",
            "  Downloading flask_ngrok-0.0.25-py3-none-any.whl.metadata (1.8 kB)\n",
            "Requirement already satisfied: Flask>=0.8 in /usr/local/lib/python3.11/dist-packages (from flask-ngrok) (3.1.0)\n",
            "Requirement already satisfied: requests in /usr/local/lib/python3.11/dist-packages (from flask-ngrok) (2.32.3)\n",
            "Requirement already satisfied: Werkzeug>=3.1 in /usr/local/lib/python3.11/dist-packages (from Flask>=0.8->flask-ngrok) (3.1.3)\n",
            "Requirement already satisfied: Jinja2>=3.1.2 in /usr/local/lib/python3.11/dist-packages (from Flask>=0.8->flask-ngrok) (3.1.5)\n",
            "Requirement already satisfied: itsdangerous>=2.2 in /usr/local/lib/python3.11/dist-packages (from Flask>=0.8->flask-ngrok) (2.2.0)\n",
            "Requirement already satisfied: click>=8.1.3 in /usr/local/lib/python3.11/dist-packages (from Flask>=0.8->flask-ngrok) (8.1.8)\n",
            "Requirement already satisfied: blinker>=1.9 in /usr/local/lib/python3.11/dist-packages (from Flask>=0.8->flask-ngrok) (1.9.0)\n",
            "Requirement already satisfied: charset-normalizer<4,>=2 in /usr/local/lib/python3.11/dist-packages (from requests->flask-ngrok) (3.4.1)\n",
            "Requirement already satisfied: idna<4,>=2.5 in /usr/local/lib/python3.11/dist-packages (from requests->flask-ngrok) (3.10)\n",
            "Requirement already satisfied: urllib3<3,>=1.21.1 in /usr/local/lib/python3.11/dist-packages (from requests->flask-ngrok) (2.3.0)\n",
            "Requirement already satisfied: certifi>=2017.4.17 in /usr/local/lib/python3.11/dist-packages (from requests->flask-ngrok) (2025.1.31)\n",
            "Requirement already satisfied: MarkupSafe>=2.0 in /usr/local/lib/python3.11/dist-packages (from Jinja2>=3.1.2->Flask>=0.8->flask-ngrok) (3.0.2)\n",
            "Downloading flask_ngrok-0.0.25-py3-none-any.whl (3.1 kB)\n",
            "Installing collected packages: flask-ngrok\n",
            "Successfully installed flask-ngrok-0.0.25\n"
          ]
        }
      ]
    },
    {
      "cell_type": "code",
      "source": [
        "from pyngrok import ngrok\n",
        "\n",
        "# Use your authtoken here\n",
        "ngrok.set_auth_token('2sV7t8ID8Ezdy2IJEB3yngswQf7_81vvYkxHYuNe7z6AYBC2A')\n",
        "\n",
        "# Open a tunnel to the Flask app (running on port 5000)\n",
        "public_url = ngrok.connect(5000)\n",
        "print(f\"Flask app is live at {public_url}\")\n"
      ],
      "metadata": {
        "colab": {
          "base_uri": "https://localhost:8080/"
        },
        "id": "zGQo0M_edG0w",
        "outputId": "a6e5124b-04b9-4ffb-d2f3-a935b15bf578"
      },
      "execution_count": 9,
      "outputs": [
        {
          "output_type": "stream",
          "name": "stdout",
          "text": [
            "Flask app is live at NgrokTunnel: \"https://bdb6-34-106-122-211.ngrok-free.app\" -> \"http://localhost:5000\"\n"
          ]
        }
      ]
    },
    {
      "cell_type": "code",
      "source": [
        "!mkdir -p /content/templates\n"
      ],
      "metadata": {
        "id": "N9QOlxz-gKyf"
      },
      "execution_count": 13,
      "outputs": []
    },
    {
      "cell_type": "code",
      "source": [
        "%%writefile /content/templates/index.html\n",
        "<!DOCTYPE html>\n",
        "<html lang=\"en\">\n",
        "<head>\n",
        "    <meta charset=\"UTF-8\">\n",
        "    <meta name=\"viewport\" content=\"width=device-width, initial-scale=1.0\">\n",
        "    <title>Solar Panel Fault Detection</title>\n",
        "</head>\n",
        "<body>\n",
        "    <h1>Solar Panel Fault Detection</h1>\n",
        "    <form action=\"/predict\" method=\"post\" enctype=\"multipart/form-data\">\n",
        "        <input type=\"file\" name=\"file\" accept=\"image/*\" required>\n",
        "        <button type=\"submit\">Predict</button>\n",
        "    </form>\n",
        "\n",
        "    <h2>Prediction Result:</h2>\n",
        "    <div id=\"result\"></div>\n",
        "\n",
        "    <script>\n",
        "        const form = document.querySelector('form');\n",
        "        const resultDiv = document.getElementById('result');\n",
        "\n",
        "        form.addEventListener('submit', async (e) => {\n",
        "            e.preventDefault();\n",
        "            const formData = new FormData(form);\n",
        "\n",
        "            const response = await fetch('/predict', {\n",
        "                method: 'POST',\n",
        "                body: formData\n",
        "            });\n",
        "\n",
        "            const data = await response.json();\n",
        "            if (data.error) {\n",
        "                resultDiv.innerHTML = `<p style=\"color: red;\">Error: ${data.error}</p>`;\n",
        "            } else {\n",
        "                resultDiv.innerHTML = `\n",
        "                    <p><strong>Predicted Class:</strong> ${data.predicted_class}</p>\n",
        "                    <p><strong>Confidence:</strong> ${data.confidence.toFixed(2)}</p>\n",
        "                `;\n",
        "            }\n",
        "        });\n",
        "    </script>\n",
        "</body>\n",
        "</html>"
      ],
      "metadata": {
        "colab": {
          "base_uri": "https://localhost:8080/"
        },
        "id": "xmudduregNld",
        "outputId": "517e89cf-c4ac-474f-f38c-0bad083044b3"
      },
      "execution_count": 14,
      "outputs": [
        {
          "output_type": "stream",
          "name": "stdout",
          "text": [
            "Writing /content/templates/index.html\n"
          ]
        }
      ]
    },
    {
      "cell_type": "code",
      "source": [
        "!python3 app5.py\n"
      ],
      "metadata": {
        "colab": {
          "base_uri": "https://localhost:8080/"
        },
        "id": "FsM7u5jjb9_h",
        "outputId": "ac89d4b1-fb14-44de-8f2d-8c2e734e4d03"
      },
      "execution_count": 15,
      "outputs": [
        {
          "output_type": "stream",
          "name": "stdout",
          "text": [
            "INFO: Created TensorFlow Lite XNNPACK delegate for CPU.\n",
            "Flask app is live at NgrokTunnel: \"https://2018-34-106-122-211.ngrok-free.app\" -> \"http://localhost:5000\"\n",
            " * Serving Flask app 'app5'\n",
            " * Debug mode: off\n",
            "\u001b[31m\u001b[1mWARNING: This is a development server. Do not use it in a production deployment. Use a production WSGI server instead.\u001b[0m\n",
            " * Running on all addresses (0.0.0.0)\n",
            " * Running on http://127.0.0.1:5000\n",
            " * Running on http://172.28.0.12:5000\n",
            "\u001b[33mPress CTRL+C to quit\u001b[0m\n",
            "127.0.0.1 - - [17/Feb/2025 01:25:38] \"GET / HTTP/1.1\" 200 -\n",
            "127.0.0.1 - - [17/Feb/2025 01:25:39] \"\u001b[33mGET /favicon.ico HTTP/1.1\u001b[0m\" 404 -\n",
            "127.0.0.1 - - [17/Feb/2025 01:25:59] \"POST /predict HTTP/1.1\" 200 -\n",
            "127.0.0.1 - - [17/Feb/2025 01:26:29] \"GET / HTTP/1.1\" 200 -\n",
            "127.0.0.1 - - [17/Feb/2025 01:26:29] \"\u001b[33mGET /favicon.ico HTTP/1.1\u001b[0m\" 404 -\n",
            "127.0.0.1 - - [17/Feb/2025 01:28:50] \"GET / HTTP/1.1\" 200 -\n",
            "127.0.0.1 - - [17/Feb/2025 01:28:50] \"GET / HTTP/1.1\" 200 -\n",
            "127.0.0.1 - - [17/Feb/2025 01:29:08] \"GET / HTTP/1.1\" 200 -\n",
            "127.0.0.1 - - [17/Feb/2025 01:29:09] \"\u001b[33mGET /favicon.ico HTTP/1.1\u001b[0m\" 404 -\n",
            "127.0.0.1 - - [17/Feb/2025 01:34:28] \"POST /predict HTTP/1.1\" 200 -\n",
            "127.0.0.1 - - [17/Feb/2025 01:34:41] \"POST /predict HTTP/1.1\" 200 -\n",
            "127.0.0.1 - - [17/Feb/2025 01:39:33] \"GET / HTTP/1.1\" 200 -\n",
            "127.0.0.1 - - [17/Feb/2025 01:40:43] \"POST /predict HTTP/1.1\" 200 -\n",
            "127.0.0.1 - - [17/Feb/2025 01:40:55] \"POST /predict HTTP/1.1\" 200 -\n",
            "127.0.0.1 - - [17/Feb/2025 01:41:08] \"POST /predict HTTP/1.1\" 200 -\n",
            "^C\n"
          ]
        }
      ]
    }
  ]
}